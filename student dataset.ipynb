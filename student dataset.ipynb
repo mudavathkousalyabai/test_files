{
 "cells": [
  {
   "cell_type": "code",
   "execution_count": 11,
   "id": "327d33d4",
   "metadata": {},
   "outputs": [],
   "source": [
    "import pandas as pd\n",
    "\n",
    "df2=pd.DataFrame({\"names\":['vineet','hisham','raj','ajeet','sujit','ramesh','priya','priyanka','suresh','ritesh','hitesh','jatin','chitesh','suman','raman','aman','ravi','shravi','chavvi','himanshu'],\"rno\":['1','2','3','4','5','6','7','8','9','10','11','12','13','14','15','16','17','18','19','20']})"
   ]
  },
  {
   "cell_type": "code",
   "execution_count": 12,
   "id": "33a13fb9",
   "metadata": {},
   "outputs": [
    {
     "name": "stdout",
     "output_type": "stream",
     "text": [
      "   results rno\n",
      "0     fail   1\n",
      "1     fail   2\n",
      "2     pass   3\n",
      "3     pass   4\n",
      "4     fail   5\n",
      "5     pass   6\n",
      "6     fail   7\n",
      "7     pass   8\n",
      "8     pass   9\n",
      "9     pass  10\n",
      "10    pass  11\n",
      "11    fail  12\n",
      "12    fail  13\n",
      "13    fail  14\n",
      "14    pass  15\n",
      "15    fail  16\n",
      "16    pass  17\n",
      "17    fail  18\n",
      "18    pass  19\n",
      "19    pass  20\n"
     ]
    }
   ],
   "source": [
    "df3=pd.DataFrame({\"results\":['fail','fail','pass','pass','fail','pass','fail','pass','pass','pass','pass','fail','fail','fail','pass','fail','pass','fail','pass','pass'],\"rno\":['1','2','3','4','5','6','7','8','9','10','11','12','13','14','15','16','17','18','19','20']})\n",
    "\n",
    "print(df3)\n",
    "\n"
   ]
  },
  {
   "cell_type": "code",
   "execution_count": 13,
   "id": "494007e4",
   "metadata": {},
   "outputs": [
    {
     "name": "stdout",
     "output_type": "stream",
     "text": [
      "       names rno\n",
      "0     vineet   1\n",
      "1     hisham   2\n",
      "2        raj   3\n",
      "3      ajeet   4\n",
      "4      sujit   5\n",
      "5     ramesh   6\n",
      "6      priya   7\n",
      "7   priyanka   8\n",
      "8     suresh   9\n",
      "9     ritesh  10\n",
      "10    hitesh  11\n",
      "11     jatin  12\n",
      "12   chitesh  13\n",
      "13     suman  14\n",
      "14     raman  15\n",
      "15      aman  16\n",
      "16      ravi  17\n",
      "17    shravi  18\n",
      "18    chavvi  19\n",
      "19  himanshu  20\n"
     ]
    }
   ],
   "source": [
    "df2=pd.DataFrame({\"names\":['vineet','hisham','raj','ajeet','sujit','ramesh','priya','priyanka','suresh','ritesh','hitesh','jatin','chitesh','suman','raman','aman','ravi','shravi','chavvi','himanshu'],\"rno\":['1','2','3','4','5','6','7','8','9','10','11','12','13','14','15','16','17','18','19','20']})\n",
    "print(df2)"
   ]
  },
  {
   "cell_type": "code",
   "execution_count": 27,
   "id": "bb98641b",
   "metadata": {},
   "outputs": [
    {
     "data": {
      "text/html": [
       "<div>\n",
       "<style scoped>\n",
       "    .dataframe tbody tr th:only-of-type {\n",
       "        vertical-align: middle;\n",
       "    }\n",
       "\n",
       "    .dataframe tbody tr th {\n",
       "        vertical-align: top;\n",
       "    }\n",
       "\n",
       "    .dataframe thead th {\n",
       "        text-align: right;\n",
       "    }\n",
       "</style>\n",
       "<table border=\"1\" class=\"dataframe\">\n",
       "  <thead>\n",
       "    <tr style=\"text-align: right;\">\n",
       "      <th></th>\n",
       "      <th>names</th>\n",
       "      <th>rno</th>\n",
       "      <th>results</th>\n",
       "    </tr>\n",
       "  </thead>\n",
       "  <tbody>\n",
       "    <tr>\n",
       "      <th>0</th>\n",
       "      <td>vineet</td>\n",
       "      <td>1</td>\n",
       "      <td>fail</td>\n",
       "    </tr>\n",
       "    <tr>\n",
       "      <th>1</th>\n",
       "      <td>hisham</td>\n",
       "      <td>2</td>\n",
       "      <td>fail</td>\n",
       "    </tr>\n",
       "    <tr>\n",
       "      <th>2</th>\n",
       "      <td>raj</td>\n",
       "      <td>3</td>\n",
       "      <td>pass</td>\n",
       "    </tr>\n",
       "    <tr>\n",
       "      <th>3</th>\n",
       "      <td>ajeet</td>\n",
       "      <td>4</td>\n",
       "      <td>pass</td>\n",
       "    </tr>\n",
       "    <tr>\n",
       "      <th>4</th>\n",
       "      <td>sujit</td>\n",
       "      <td>5</td>\n",
       "      <td>fail</td>\n",
       "    </tr>\n",
       "    <tr>\n",
       "      <th>5</th>\n",
       "      <td>ramesh</td>\n",
       "      <td>6</td>\n",
       "      <td>pass</td>\n",
       "    </tr>\n",
       "    <tr>\n",
       "      <th>6</th>\n",
       "      <td>priya</td>\n",
       "      <td>7</td>\n",
       "      <td>fail</td>\n",
       "    </tr>\n",
       "    <tr>\n",
       "      <th>7</th>\n",
       "      <td>priyanka</td>\n",
       "      <td>8</td>\n",
       "      <td>pass</td>\n",
       "    </tr>\n",
       "    <tr>\n",
       "      <th>8</th>\n",
       "      <td>suresh</td>\n",
       "      <td>9</td>\n",
       "      <td>pass</td>\n",
       "    </tr>\n",
       "    <tr>\n",
       "      <th>9</th>\n",
       "      <td>ritesh</td>\n",
       "      <td>10</td>\n",
       "      <td>pass</td>\n",
       "    </tr>\n",
       "    <tr>\n",
       "      <th>10</th>\n",
       "      <td>hitesh</td>\n",
       "      <td>11</td>\n",
       "      <td>pass</td>\n",
       "    </tr>\n",
       "    <tr>\n",
       "      <th>11</th>\n",
       "      <td>jatin</td>\n",
       "      <td>12</td>\n",
       "      <td>fail</td>\n",
       "    </tr>\n",
       "    <tr>\n",
       "      <th>12</th>\n",
       "      <td>chitesh</td>\n",
       "      <td>13</td>\n",
       "      <td>fail</td>\n",
       "    </tr>\n",
       "    <tr>\n",
       "      <th>13</th>\n",
       "      <td>suman</td>\n",
       "      <td>14</td>\n",
       "      <td>fail</td>\n",
       "    </tr>\n",
       "    <tr>\n",
       "      <th>14</th>\n",
       "      <td>raman</td>\n",
       "      <td>15</td>\n",
       "      <td>pass</td>\n",
       "    </tr>\n",
       "    <tr>\n",
       "      <th>15</th>\n",
       "      <td>aman</td>\n",
       "      <td>16</td>\n",
       "      <td>fail</td>\n",
       "    </tr>\n",
       "    <tr>\n",
       "      <th>16</th>\n",
       "      <td>ravi</td>\n",
       "      <td>17</td>\n",
       "      <td>pass</td>\n",
       "    </tr>\n",
       "    <tr>\n",
       "      <th>17</th>\n",
       "      <td>shravi</td>\n",
       "      <td>18</td>\n",
       "      <td>fail</td>\n",
       "    </tr>\n",
       "    <tr>\n",
       "      <th>18</th>\n",
       "      <td>chavvi</td>\n",
       "      <td>19</td>\n",
       "      <td>pass</td>\n",
       "    </tr>\n",
       "    <tr>\n",
       "      <th>19</th>\n",
       "      <td>himanshu</td>\n",
       "      <td>20</td>\n",
       "      <td>pass</td>\n",
       "    </tr>\n",
       "  </tbody>\n",
       "</table>\n",
       "</div>"
      ],
      "text/plain": [
       "       names rno results\n",
       "0     vineet   1    fail\n",
       "1     hisham   2    fail\n",
       "2        raj   3    pass\n",
       "3      ajeet   4    pass\n",
       "4      sujit   5    fail\n",
       "5     ramesh   6    pass\n",
       "6      priya   7    fail\n",
       "7   priyanka   8    pass\n",
       "8     suresh   9    pass\n",
       "9     ritesh  10    pass\n",
       "10    hitesh  11    pass\n",
       "11     jatin  12    fail\n",
       "12   chitesh  13    fail\n",
       "13     suman  14    fail\n",
       "14     raman  15    pass\n",
       "15      aman  16    fail\n",
       "16      ravi  17    pass\n",
       "17    shravi  18    fail\n",
       "18    chavvi  19    pass\n",
       "19  himanshu  20    pass"
      ]
     },
     "execution_count": 27,
     "metadata": {},
     "output_type": "execute_result"
    }
   ],
   "source": [
    "merged_table=df2.merge(df3,on='rno')\n",
    "merged_table"
   ]
  },
  {
   "cell_type": "code",
   "execution_count": 29,
   "id": "f8fdfb87",
   "metadata": {},
   "outputs": [
    {
     "name": "stdout",
     "output_type": "stream",
     "text": [
      "pass count: 11\n"
     ]
    }
   ],
   "source": [
    "pass_count=merged_table['results'].value_counts()['pass']\n",
    "\n",
    "print(\"pass count:\",pass_count)"
   ]
  },
  {
   "cell_type": "code",
   "execution_count": 32,
   "id": "b58a59e5",
   "metadata": {},
   "outputs": [
    {
     "name": "stdout",
     "output_type": "stream",
     "text": [
      "fail count: 9\n"
     ]
    }
   ],
   "source": [
    "fail_count=merged_table['results'].value_counts()['fail']\n",
    "\n",
    "print(\"fail count:\",fail_count)"
   ]
  },
  {
   "cell_type": "code",
   "execution_count": 33,
   "id": "6806f522",
   "metadata": {},
   "outputs": [
    {
     "name": "stdout",
     "output_type": "stream",
     "text": [
      "       names rno results\n",
      "2        raj   3    pass\n",
      "3      ajeet   4    pass\n",
      "5     ramesh   6    pass\n",
      "7   priyanka   8    pass\n",
      "8     suresh   9    pass\n",
      "9     ritesh  10    pass\n",
      "10    hitesh  11    pass\n",
      "14     raman  15    pass\n",
      "16      ravi  17    pass\n",
      "18    chavvi  19    pass\n",
      "19  himanshu  20    pass\n"
     ]
    }
   ],
   "source": [
    "passed_data=merged_table[merged_table['results']=='pass']\n",
    "\n",
    "print(passed_data)"
   ]
  },
  {
   "cell_type": "code",
   "execution_count": 34,
   "id": "bb366bca",
   "metadata": {},
   "outputs": [
    {
     "name": "stdout",
     "output_type": "stream",
     "text": [
      "       names rno results\n",
      "3      ajeet   4    pass\n",
      "15      aman  16    fail\n",
      "18    chavvi  19    pass\n",
      "12   chitesh  13    fail\n",
      "19  himanshu  20    pass\n",
      "1     hisham   2    fail\n",
      "10    hitesh  11    pass\n",
      "11     jatin  12    fail\n",
      "6      priya   7    fail\n",
      "7   priyanka   8    pass\n",
      "2        raj   3    pass\n",
      "14     raman  15    pass\n",
      "5     ramesh   6    pass\n",
      "16      ravi  17    pass\n",
      "9     ritesh  10    pass\n",
      "17    shravi  18    fail\n",
      "4      sujit   5    fail\n",
      "13     suman  14    fail\n",
      "8     suresh   9    pass\n",
      "0     vineet   1    fail\n"
     ]
    }
   ],
   "source": [
    "merged_table_sorted=merged_table.sort_values(by='names')\n",
    "\n",
    "print(merged_table_sorted)"
   ]
  },
  {
   "cell_type": "code",
   "execution_count": null,
   "id": "f7c5e7af",
   "metadata": {},
   "outputs": [],
   "source": []
  },
  {
   "cell_type": "code",
   "execution_count": null,
   "id": "737865c8",
   "metadata": {},
   "outputs": [],
   "source": []
  },
  {
   "cell_type": "code",
   "execution_count": null,
   "id": "157bf538",
   "metadata": {},
   "outputs": [],
   "source": []
  },
  {
   "cell_type": "code",
   "execution_count": null,
   "id": "4eaaf389",
   "metadata": {},
   "outputs": [],
   "source": []
  }
 ],
 "metadata": {
  "kernelspec": {
   "display_name": "Python 3 (ipykernel)",
   "language": "python",
   "name": "python3"
  },
  "language_info": {
   "codemirror_mode": {
    "name": "ipython",
    "version": 3
   },
   "file_extension": ".py",
   "mimetype": "text/x-python",
   "name": "python",
   "nbconvert_exporter": "python",
   "pygments_lexer": "ipython3",
   "version": "3.11.4"
  }
 },
 "nbformat": 4,
 "nbformat_minor": 5
}
